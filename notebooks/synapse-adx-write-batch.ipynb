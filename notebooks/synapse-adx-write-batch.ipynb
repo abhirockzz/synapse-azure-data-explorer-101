{
  "cells": [
    {
      "cell_type": "code",
      "source": [
        "events = (spark\n",
        "                .read\n",
        "                .csv(\"/StormEvents.csv\", header=True, inferSchema='true')\n",
        "              )\n",
        "\n",
        "display(events.take(10))"
      ],
      "outputs": [
        {
          "output_type": "display_data",
          "data": {
            "application/vnd.livy.statement-meta+json": {
              "spark_pool": "sparkling",
              "session_id": 5,
              "statement_id": 1,
              "state": "finished",
              "livy_statement_state": "available",
              "queued_time": "2021-04-05T09:56:23.8905315Z",
              "execution_start_time": "2021-04-05T09:57:12.4546445Z",
              "execution_finish_time": "2021-04-05T09:57:43.4534424Z"
            },
            "text/plain": "StatementMeta(sparkling, 5, 1, Finished, Available)"
          },
          "metadata": {}
        },
        {
          "output_type": "display_data",
          "data": {
            "application/vnd.synapse.widget-view+json": {
              "widget_id": "005653dc-d9c2-45c5-b6c1-e84a353ba249",
              "widget_type": "Synapse.DataFrame"
            },
            "text/plain": "SynapseWidget(Synapse.DataFrame, 005653dc-d9c2-45c5-b6c1-e84a353ba249)"
          },
          "metadata": {}
        },
        {
          "output_type": "execute_result",
          "execution_count": 1,
          "data": {},
          "metadata": {}
        }
      ],
      "execution_count": 1,
      "metadata": {
        "collapsed": false
      }
    },
    {
      "cell_type": "code",
      "source": [
        "events_filtered = events.dropna() \\\n",
        "                        .drop('StormSummary', 'EndLat','EndLon','BeginLat','BeginLon') \\\n",
        "                        .filter((events.DamageProperty > 0))\n",
        "\n",
        "print(events_filtered.count())\n",
        "display(events_filtered.take(10))"
      ],
      "outputs": [
        {
          "output_type": "display_data",
          "data": {
            "application/vnd.livy.statement-meta+json": {
              "spark_pool": "sparkling",
              "session_id": 5,
              "statement_id": 2,
              "state": "finished",
              "livy_statement_state": "available",
              "queued_time": "2021-04-05T09:57:48.4739718Z",
              "execution_start_time": "2021-04-05T09:57:48.5736053Z",
              "execution_finish_time": "2021-04-05T09:57:56.8441021Z"
            },
            "text/plain": "StatementMeta(sparkling, 5, 2, Finished, Available)"
          },
          "metadata": {}
        },
        {
          "output_type": "display_data",
          "data": {
            "text/plain": "8792\n"
          },
          "metadata": {}
        },
        {
          "output_type": "display_data",
          "data": {
            "application/vnd.synapse.widget-view+json": {
              "widget_id": "b39fe6ab-d330-4c31-b750-d1abd7ba4a7a",
              "widget_type": "Synapse.DataFrame"
            },
            "text/plain": "SynapseWidget(Synapse.DataFrame, b39fe6ab-d330-4c31-b750-d1abd7ba4a7a)"
          },
          "metadata": {}
        },
        {
          "output_type": "execute_result",
          "execution_count": 2,
          "data": {},
          "metadata": {}
        }
      ],
      "execution_count": 2,
      "metadata": {
        "jupyter": {
          "source_hidden": false,
          "outputs_hidden": false
        },
        "nteract": {
          "transient": {
            "deleting": false
          }
        },
        "collapsed": false
      }
    },
    {
      "cell_type": "code",
      "source": [
        "events_filtered.write \\\n",
        "    .format(\"com.microsoft.kusto.spark.synapse.datasource\") \\\n",
        "    .option(\"spark.synapse.linkedService\", \"adx\") \\\n",
        "    .option(\"kustoDatabase\", \"adxdb\") \\\n",
        "    .option(\"kustoTable\", \"StormEvents_1\") \\\n",
        "    .option(\"tableCreateOptions\",\"FailIfNotExist\") \\\n",
        "    .mode(\"Append\") \\\n",
        "    .save()"
      ],
      "outputs": [
        {
          "output_type": "display_data",
          "data": {
            "application/vnd.livy.statement-meta+json": {
              "spark_pool": "sparkling",
              "session_id": 5,
              "statement_id": 4,
              "state": "finished",
              "livy_statement_state": "available",
              "queued_time": "2021-04-05T10:05:42.3571469Z",
              "execution_start_time": "2021-04-05T10:05:42.5055235Z",
              "execution_finish_time": "2021-04-05T10:06:25.6953443Z"
            },
            "text/plain": "StatementMeta(sparkling, 5, 4, Finished, Available)"
          },
          "metadata": {}
        },
        {
          "output_type": "execute_result",
          "execution_count": 4,
          "data": {
            "text/plain": ""
          },
          "metadata": {}
        }
      ],
      "execution_count": 4,
      "metadata": {
        "jupyter": {
          "source_hidden": false,
          "outputs_hidden": false
        },
        "nteract": {
          "transient": {
            "deleting": false
          }
        },
        "collapsed": true
      }
    }
  ],
  "metadata": {
    "kernelspec": {
      "name": "synapse_pyspark",
      "language": "Python",
      "display_name": "Synapse PySpark"
    },
    "language_info": {
      "name": "python"
    },
    "kernel_info": {
      "name": "synapse_pyspark"
    },
    "save_output": true,
    "synapse_widget": {
      "version": "0.1",
      "state": {
        "005653dc-d9c2-45c5-b6c1-e84a353ba249": {
          "type": "Synapse.DataFrame",
          "sync_state": {
            "table": {
              "rows": [
                {
                  "EndLon": "-81.63",
                  "InjuriesDirect": "0",
                  "DeathsDirect": "0",
                  "BeginLon": "-81.63",
                  "EpisodeNarrative": "A small cluster of thunderstorms moved rapidly across the foothills and piedmont of western North Carolina, producing scattered wind damage.",
                  "EventType": "Thunderstorm Wind",
                  "BeginLocation": "CASAR",
                  "StartTime": "2007-01-01 00:00:00.0000000",
                  "EndTime": "2007-01-01 00:00:00.0000000",
                  "EventId": "13208",
                  "Source": "Public",
                  "DamageCrops": "0",
                  "EpisodeId": "2592",
                  "StormSummary": "{",
                  "BeginLat": "35.52",
                  "DamageProperty": "0",
                  "DeathsIndirect": "0",
                  "State": "NORTH CAROLINA",
                  "InjuriesIndirect": "0",
                  "EventNarrative": "Several trees down.",
                  "EndLocation": "CASAR",
                  "EndLat": "35.52"
                },
                {
                  "StartTime": "  \"\"TotalDamages\"\": 0"
                },
                {
                  "StartTime": "  \"\"StartTime\"\": \"\"2007-01-01T00:00:00.0000000Z\"\""
                },
                {
                  "StartTime": "  \"\"EndTime\"\": \"\"2007-01-01T00:00:00.0000000Z\"\""
                },
                {
                  "StartTime": "  \"\"Details\"\": {"
                },
                {
                  "StartTime": "    \"\"Description\"\": \"\"Several trees down.\"\""
                },
                {
                  "StartTime": "    \"\"Location\"\": \"\"NORTH CAROLINA\"\""
                },
                {
                  "StartTime": "  }"
                },
                {
                  "StartTime": "}\""
                },
                {
                  "InjuriesDirect": "0",
                  "DeathsDirect": "0",
                  "EpisodeNarrative": "A powerful storm system moved from the southern plains through eastern Wisconsin, bringing copious amounts of precipitation to northwest Wisconsin from December 30th through the morning of January 1st. Deep tropical moisture out ahead of the storm brought heavy rains to the area on December 30th and 31st. Many areas saw over 1 inch of rain. Cold air wrapped around the system and changed the rain over to snow New Year's Eve. The snow finally ended during the early morning hours of New Year's Day, with the heaviest amounts of 6 to 12 inches reported across Ashland and Iron counties.",
                  "EventType": "Winter Storm",
                  "StartTime": "2007-01-01 00:00:00.0000000",
                  "EndTime": "2007-01-01 05:00:00.0000000",
                  "EventId": "23358",
                  "Source": "COOP Observer",
                  "DamageCrops": "0",
                  "EpisodeId": "4171",
                  "StormSummary": "{",
                  "DamageProperty": "0",
                  "DeathsIndirect": "0",
                  "State": "WISCONSIN",
                  "InjuriesIndirect": "0"
                }
              ],
              "schema": {
                "StartTime": "string",
                "EndTime": "string",
                "EpisodeId": "string",
                "EventId": "string",
                "State": "string",
                "EventType": "string",
                "InjuriesDirect": "string",
                "InjuriesIndirect": "string",
                "DeathsDirect": "string",
                "DeathsIndirect": "string",
                "DamageProperty": "string",
                "DamageCrops": "string",
                "Source": "string",
                "BeginLocation": "string",
                "EndLocation": "string",
                "BeginLat": "string",
                "BeginLon": "string",
                "EndLat": "string",
                "EndLon": "string",
                "EpisodeNarrative": "string",
                "EventNarrative": "string",
                "StormSummary": "string"
              }
            },
            "isSummary": false,
            "language": "scala"
          },
          "persist_state": {
            "view": {
              "type": "details",
              "tableOptions": {},
              "chartOptions": {
                "chartType": "bar",
                "aggregationType": "count",
                "categoryFieldKeys": [
                  "StartTime"
                ],
                "seriesFieldKeys": [
                  "StartTime"
                ],
                "isStacked": false
              }
            }
          }
        },
        "b39fe6ab-d330-4c31-b750-d1abd7ba4a7a": {
          "type": "Synapse.DataFrame",
          "sync_state": {
            "table": {
              "rows": [
                {
                  "InjuriesDirect": "0",
                  "DeathsDirect": "0",
                  "EpisodeNarrative": "Warm and wet weather continued from late December into mid-January, keeping river levels high.",
                  "EventType": "Flood",
                  "BeginLocation": "SEYMOUR",
                  "StartTime": "2007-01-01 00:00:00.0000000",
                  "EndTime": "2007-01-20 10:24:00.0000000",
                  "EventId": "11914",
                  "Source": "COOP Observer",
                  "DamageCrops": "0",
                  "EpisodeId": "2403",
                  "DamageProperty": "10000",
                  "DeathsIndirect": "0",
                  "State": "INDIANA",
                  "InjuriesIndirect": "0",
                  "EventNarrative": "Save for brief drops below flood stage, the East Fork White at Seymour remained above flood stage through much of January.  The river reached as high as 6.4 feet above flood stage.",
                  "EndLocation": "SEYMOUR"
                },
                {
                  "InjuriesDirect": "0",
                  "DeathsDirect": "1",
                  "EpisodeNarrative": "Heavy rains in late December and January caused prolonged high water along the lower White River.",
                  "EventType": "Flood",
                  "BeginLocation": "WORTHINGTON",
                  "StartTime": "2007-01-01 00:00:00.0000000",
                  "EndTime": "2007-01-22 18:49:00.0000000",
                  "EventId": "11929",
                  "Source": "COOP Observer",
                  "DamageCrops": "0",
                  "EpisodeId": "2408",
                  "DamageProperty": "10000",
                  "DeathsIndirect": "0",
                  "State": "INDIANA",
                  "InjuriesIndirect": "0",
                  "EventNarrative": "The White River in Greene County flooded for much of January.  Crests were as high as 8.9 feet above flood stage.  A man was killed near Worthington when he lost control of his car in high water and attempted to wade through the frigid water to safety.",
                  "EndLocation": "WORTHINGTON"
                },
                {
                  "InjuriesDirect": "0",
                  "DeathsDirect": "0",
                  "EpisodeNarrative": "Heavy rains in late December and January caused prolonged high water along the lower White River.",
                  "EventType": "Flood",
                  "BeginLocation": "WASHINGTON",
                  "StartTime": "2007-01-01 00:00:00.0000000",
                  "EndTime": "2007-01-24 18:47:00.0000000",
                  "EventId": "11930",
                  "Source": "COOP Observer",
                  "DamageCrops": "0",
                  "EpisodeId": "2408",
                  "DamageProperty": "10000",
                  "DeathsIndirect": "0",
                  "State": "INDIANA",
                  "InjuriesIndirect": "0",
                  "EventNarrative": "The White River in Daviess County flooded through much of January.  Crests were as high as 8.6 feet above flood stage.",
                  "EndLocation": "WASHINGTON"
                },
                {
                  "InjuriesDirect": "0",
                  "DeathsDirect": "0",
                  "EpisodeNarrative": "Heavy rains in late December and January caused prolonged high water along the lower White River.",
                  "EventType": "Flood",
                  "BeginLocation": "DECKER",
                  "StartTime": "2007-01-01 00:00:00.0000000",
                  "EndTime": "2007-01-27 10:27:00.0000000",
                  "EventId": "11931",
                  "Source": "COOP Observer",
                  "DamageCrops": "0",
                  "EpisodeId": "2408",
                  "DamageProperty": "10000",
                  "DeathsIndirect": "0",
                  "State": "INDIANA",
                  "InjuriesIndirect": "0",
                  "EventNarrative": "The White River in Knox County flooded through much of January.  Crests were as high as 9.4 feet above flood stage.",
                  "EndLocation": "DECKER"
                },
                {
                  "InjuriesDirect": "0",
                  "DeathsDirect": "0",
                  "EpisodeNarrative": "Heavy rains in late December and January led to prolonged high water along the Wabash River.",
                  "EventType": "Flood",
                  "BeginLocation": "TERRE HAUTE",
                  "StartTime": "2007-01-01 00:00:00.0000000",
                  "EndTime": "2007-01-28 11:40:00.0000000",
                  "EventId": "11922",
                  "Source": "Other Federal",
                  "DamageCrops": "0",
                  "EpisodeId": "2407",
                  "DamageProperty": "10000",
                  "DeathsIndirect": "0",
                  "State": "INDIANA",
                  "InjuriesIndirect": "0",
                  "EventNarrative": "The Wabash River in Vigo County remained high through most of January.  The maximum crest was just over 8 feet above flood stage.",
                  "EndLocation": "TERRE HAUTE"
                },
                {
                  "InjuriesDirect": "0",
                  "DeathsDirect": "0",
                  "EpisodeNarrative": "Heavy rains in late December and January led to prolonged high water along the Wabash River.",
                  "EventType": "Flood",
                  "BeginLocation": "HILLSDALE",
                  "StartTime": "2007-01-01 00:00:00.0000000",
                  "EndTime": "2007-01-28 21:00:00.0000000",
                  "EventId": "11920",
                  "Source": "Other Federal",
                  "DamageCrops": "0",
                  "EpisodeId": "2407",
                  "DamageProperty": "10000",
                  "DeathsIndirect": "0",
                  "State": "INDIANA",
                  "InjuriesIndirect": "0",
                  "EventNarrative": "The Wabash River in Vermillion County remained above flood stage through most of January.  Crests were as high as 12 feet above flood stage.",
                  "EndLocation": "HILLSDALE"
                },
                {
                  "InjuriesDirect": "0",
                  "DeathsDirect": "0",
                  "EpisodeNarrative": "Heavy rains in late December and January led to prolonged high water along the Wabash River.",
                  "EventType": "Flood",
                  "BeginLocation": "MONTEZUMA",
                  "StartTime": "2007-01-01 00:00:00.0000000",
                  "EndTime": "2007-01-28 21:00:00.0000000",
                  "EventId": "11921",
                  "Source": "Other Federal",
                  "DamageCrops": "0",
                  "EpisodeId": "2407",
                  "DamageProperty": "10000",
                  "DeathsIndirect": "0",
                  "State": "INDIANA",
                  "InjuriesIndirect": "0",
                  "EventNarrative": "The Wabash River in Parke County remained high through most of January.  Crests were as high as 12 feet above flood stage.",
                  "EndLocation": "MONTEZUMA"
                },
                {
                  "InjuriesDirect": "0",
                  "DeathsDirect": "0",
                  "EpisodeNarrative": "Heavy rains in late December and January led to prolonged high water along the Wabash River.",
                  "EventType": "Flood",
                  "BeginLocation": "VINCENNES",
                  "StartTime": "2007-01-01 00:00:00.0000000",
                  "EndTime": "2007-01-30 10:34:00.0000000",
                  "EventId": "11924",
                  "Source": "COOP Observer",
                  "DamageCrops": "0",
                  "EpisodeId": "2407",
                  "DamageProperty": "10000",
                  "DeathsIndirect": "0",
                  "State": "INDIANA",
                  "InjuriesIndirect": "0",
                  "EventNarrative": "The Wabash River at Vincennes remained above flood for almost all of January.  Crests were as high as 6.6 feet above flood stage.",
                  "EndLocation": "VINCENNES"
                },
                {
                  "InjuriesDirect": "0",
                  "DeathsDirect": "0",
                  "EpisodeNarrative": "Heavy rains in late December and January led to prolonged high water along the Wabash River.",
                  "EventType": "Flood",
                  "BeginLocation": "RIVERTON",
                  "StartTime": "2007-01-01 00:00:00.0000000",
                  "EndTime": "2007-01-31 23:59:00.0000000",
                  "EventId": "11923",
                  "Source": "Other Federal",
                  "DamageCrops": "0",
                  "EpisodeId": "2407",
                  "DamageProperty": "10000",
                  "DeathsIndirect": "0",
                  "State": "INDIANA",
                  "InjuriesIndirect": "0",
                  "EventNarrative": "The Wabash in Sullivan County remained above flood stage for the entire month of January.  The crest was as high as 8.4 feet above flood stage.",
                  "EndLocation": "RIVERTON"
                },
                {
                  "InjuriesDirect": "0",
                  "DeathsDirect": "0",
                  "EpisodeNarrative": "Heavy rain producing thunderstorms across portions of Southside Virginia also downed some trees in one location.",
                  "EventType": "Thunderstorm Wind",
                  "BeginLocation": "NEWS FERRY",
                  "StartTime": "2007-01-01 03:45:00.0000000",
                  "EndTime": "2007-01-01 03:45:00.0000000",
                  "EventId": "10650",
                  "Source": "Public",
                  "DamageCrops": "0",
                  "EpisodeId": "2209",
                  "DamageProperty": "3000",
                  "DeathsIndirect": "0",
                  "State": "VIRGINIA",
                  "InjuriesIndirect": "0",
                  "EventNarrative": "Large trees were snapped off.",
                  "EndLocation": "NEWS FERRY"
                }
              ],
              "schema": {
                "StartTime": "string",
                "EndTime": "string",
                "EpisodeId": "string",
                "EventId": "string",
                "State": "string",
                "EventType": "string",
                "InjuriesDirect": "string",
                "InjuriesIndirect": "string",
                "DeathsDirect": "string",
                "DeathsIndirect": "string",
                "DamageProperty": "string",
                "DamageCrops": "string",
                "Source": "string",
                "BeginLocation": "string",
                "EndLocation": "string",
                "EpisodeNarrative": "string",
                "EventNarrative": "string"
              }
            },
            "isSummary": false,
            "language": "scala"
          },
          "persist_state": {
            "view": {
              "type": "details",
              "tableOptions": {},
              "chartOptions": {
                "chartType": "bar",
                "aggregationType": "count",
                "categoryFieldKeys": [
                  "StartTime"
                ],
                "seriesFieldKeys": [
                  "StartTime"
                ],
                "isStacked": false
              }
            }
          }
        }
      }
    }
  },
  "nbformat": 4,
  "nbformat_minor": 2
}