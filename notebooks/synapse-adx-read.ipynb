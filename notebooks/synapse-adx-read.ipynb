{
  "cells": [
    {
      "cell_type": "code",
      "source": [
        "kustoDf  = spark.read \\\n",
        "            .format(\"com.microsoft.kusto.spark.synapse.datasource\") \\\n",
        "            .option(\"spark.synapse.linkedService\", \"adx\") \\\n",
        "            .option(\"kustoDatabase\", \"adxdb\") \\\n",
        "            .option(\"kustoQuery\", \"StormEvents_1 | take 10\") \\\n",
        "            .load()\n",
        "\n",
        "display(kustoDf) \n"
      ],
      "outputs": [
        {
          "output_type": "display_data",
          "data": {
            "application/vnd.livy.statement-meta+json": {
              "spark_pool": "sparkling",
              "session_id": 3,
              "statement_id": 4,
              "state": "finished",
              "livy_statement_state": "available",
              "queued_time": "2021-04-05T09:02:20.1895274Z",
              "execution_start_time": "2021-04-05T09:02:20.2889762Z",
              "execution_finish_time": "2021-04-05T09:02:22.3761508Z"
            },
            "text/plain": "StatementMeta(sparkling, 3, 4, Finished, Available)"
          },
          "metadata": {}
        },
        {
          "output_type": "display_data",
          "data": {
            "application/vnd.synapse.widget-view+json": {
              "widget_id": "ed8825cf-96e7-4ac1-b287-1ade3621ba91",
              "widget_type": "Synapse.DataFrame"
            },
            "text/plain": "SynapseWidget(Synapse.DataFrame, ed8825cf-96e7-4ac1-b287-1ade3621ba91)"
          },
          "metadata": {}
        },
        {
          "output_type": "execute_result",
          "execution_count": 4,
          "data": {},
          "metadata": {}
        }
      ],
      "execution_count": 4,
      "metadata": {
        "microsoft": {},
        "collapsed": false
      }
    },
    {
      "cell_type": "code",
      "source": [
        "stormDf  = spark.read \\\n",
        "            .format(\"com.microsoft.kusto.spark.synapse.datasource\") \\\n",
        "            .option(\"spark.synapse.linkedService\", \"adx\") \\\n",
        "            .option(\"kustoDatabase\", \"adxdb\") \\\n",
        "            .option(\"kustoQuery\", \"StormEvents_1\") \\\n",
        "            .load()\n",
        "\n",
        "from pyspark.sql.functions import *\n",
        "\n",
        "filtered_df = stormDf.select('EventId', 'State', 'StartTime','EndTime', 'EventType', 'DamageProperty', 'DeathsDirect', 'Source') \\\n",
        "                            .filter((stormDf.DamageProperty > 0)\\\n",
        "                                & (stormDf.DeathsDirect > 0))\n",
        "\n",
        "filtered_df.createOrReplaceTempView(\"storm_dataset\")"
      ],
      "outputs": [
        {
          "output_type": "display_data",
          "data": {
            "application/vnd.livy.statement-meta+json": {
              "spark_pool": "sparkling",
              "session_id": 3,
              "statement_id": 20,
              "state": "finished",
              "livy_statement_state": "available",
              "queued_time": "2021-04-05T09:15:17.7697923Z",
              "execution_start_time": "2021-04-05T09:15:17.8614204Z",
              "execution_finish_time": "2021-04-05T09:15:21.9776723Z"
            },
            "text/plain": "StatementMeta(sparkling, 3, 20, Finished, Available)"
          },
          "metadata": {}
        },
        {
          "output_type": "execute_result",
          "execution_count": 20,
          "data": {
            "text/plain": ""
          },
          "metadata": {}
        }
      ],
      "execution_count": 20,
      "metadata": {
        "collapsed": true,
        "jupyter": {
          "source_hidden": false,
          "outputs_hidden": false
        },
        "nteract": {
          "transient": {
            "deleting": false
          }
        }
      }
    },
    {
      "cell_type": "code",
      "source": [
        "import seaborn as sns\n",
        "import matplotlib.pyplot as plt\n",
        "\n",
        "filtered_df = filtered_df.toPandas()\n",
        "\n",
        "ax = sns.barplot(x=\"DeathsDirect\", y=\"EventType\",data=filtered_df)\n",
        "ax.set_title('deaths per event type')\n",
        "ax.set_xlabel('Deaths#')\n",
        "ax.set_ylabel('Event Type')\n",
        "plt.show()"
      ],
      "outputs": [
        {
          "output_type": "display_data",
          "data": {
            "application/vnd.livy.statement-meta+json": {
              "spark_pool": "sparkling",
              "session_id": 3,
              "statement_id": 14,
              "state": "finished",
              "livy_statement_state": "available",
              "queued_time": "2021-04-05T09:09:25.237715Z",
              "execution_start_time": "2021-04-05T09:09:25.3381861Z",
              "execution_finish_time": "2021-04-05T09:09:29.475376Z"
            },
            "text/plain": "StatementMeta(sparkling, 3, 14, Finished, Available)"
          },
          "metadata": {}
        },
        {
          "output_type": "display_data",
          "data": {
            "image/png": "[encoded data removed]"
          },
          "metadata": {}
        },
        {
          "output_type": "execute_result",
          "execution_count": 14,
          "data": {},
          "metadata": {}
        }
      ],
      "execution_count": 14,
      "metadata": {
        "collapsed": true,
        "jupyter": {
          "source_hidden": false,
          "outputs_hidden": false
        },
        "nteract": {
          "transient": {
            "deleting": false
          }
        }
      }
    },
    {
      "cell_type": "code",
      "source": [
        "%%sql\n",
        "\n",
        "SELECT EventType, AVG(DamageProperty) AS avg_property_damage\n",
        "FROM storm_dataset \n",
        "GROUP BY EventType\n",
        "ORDER BY avg_property_damage DESC"
      ],
      "outputs": [
        {
          "output_type": "display_data",
          "data": {
            "application/vnd.livy.statement-meta+json": {
              "spark_pool": "sparkling",
              "session_id": 3,
              "statement_id": 22,
              "state": "finished",
              "livy_statement_state": "available",
              "queued_time": "2021-04-05T09:15:49.9329582Z",
              "execution_start_time": "2021-04-05T09:15:50.0450589Z",
              "execution_finish_time": "2021-04-05T09:15:58.290405Z"
            },
            "text/plain": "StatementMeta(sparkling, 3, 22, Finished, Available)"
          },
          "metadata": {}
        },
        {
          "output_type": "execute_result",
          "execution_count": 22,
          "data": {
            "application/vnd.synapse.sparksql-result+json": {
              "schema": {
                "type": "struct",
                "fields": [
                  {
                    "name": "EventType",
                    "type": "string",
                    "nullable": true,
                    "metadata": {}
                  },
                  {
                    "name": "avg_property_damage",
                    "type": "double",
                    "nullable": true,
                    "metadata": {}
                  }
                ]
              },
              "data": [
                [
                  "Wildfire",
                  93925000
                ],
                [
                  "Ice Storm",
                  50982500
                ],
                [
                  "Tornado",
                  40363727.27272727
                ],
                [
                  "Flash Flood",
                  11908766.666666666
                ],
                [
                  "Hurricane (Typhoon)",
                  10000000
                ],
                [
                  "Flood",
                  8787444.444444444
                ],
                [
                  "High Wind",
                  4850000
                ],
                [
                  "Winter Weather",
                  800000
                ],
                [
                  "Thunderstorm Wind",
                  333571.4285714286
                ],
                [
                  "Debris Flow",
                  300000
                ],
                [
                  "High Surf",
                  80000
                ],
                [
                  "Cold/Wind Chill",
                  25000
                ],
                [
                  "Strong Wind",
                  15500
                ],
                [
                  "Lightning",
                  5000
                ],
                [
                  "Avalanche",
                  1000
                ]
              ]
            },
            "text/plain": "<Spark SQL result set with 15 rows and 2 fields>"
          },
          "metadata": {}
        }
      ],
      "execution_count": 22,
      "metadata": {
        "collapsed": false,
        "jupyter": {
          "source_hidden": false,
          "outputs_hidden": false
        },
        "nteract": {
          "transient": {
            "deleting": false
          }
        },
        "microsoft": {
          "language": "sparksql"
        }
      }
    },
    {
      "cell_type": "code",
      "source": [
        "%%sql\n",
        "\n",
        "SELECT \n",
        "    State\n",
        "    , MAX(DeathsDirect) AS deaths\n",
        "FROM storm_dataset \n",
        "GROUP BY State\n",
        "ORDER BY deaths DESC"
      ],
      "outputs": [
        {
          "output_type": "display_data",
          "data": {
            "application/vnd.livy.statement-meta+json": {
              "spark_pool": "sparkling",
              "session_id": 3,
              "statement_id": 23,
              "state": "finished",
              "livy_statement_state": "available",
              "queued_time": "2021-04-05T09:17:05.0889653Z",
              "execution_start_time": "2021-04-05T09:17:05.1901735Z",
              "execution_finish_time": "2021-04-05T09:17:11.3829383Z"
            },
            "text/plain": "StatementMeta(sparkling, 3, 23, Finished, Available)"
          },
          "metadata": {}
        },
        {
          "output_type": "execute_result",
          "execution_count": 23,
          "data": {
            "application/vnd.synapse.sparksql-result+json": {
              "schema": {
                "type": "struct",
                "fields": [
                  {
                    "name": "State",
                    "type": "string",
                    "nullable": true,
                    "metadata": {}
                  },
                  {
                    "name": "deaths",
                    "type": "integer",
                    "nullable": true,
                    "metadata": {}
                  }
                ]
              },
              "data": [
                [
                  "FLORIDA",
                  13
                ],
                [
                  "KANSAS",
                  11
                ],
                [
                  "ALABAMA",
                  9
                ],
                [
                  "CALIFORNIA",
                  8
                ],
                [
                  "TEXAS",
                  7
                ],
                [
                  "GEORGIA",
                  6
                ],
                [
                  "MINNESOTA",
                  5
                ],
                [
                  "NEW YORK",
                  4
                ],
                [
                  "OKLAHOMA",
                  3
                ],
                [
                  "UTAH",
                  3
                ],
                [
                  "MAINE",
                  2
                ],
                [
                  "PUERTO RICO",
                  2
                ],
                [
                  "LOUISIANA",
                  2
                ],
                [
                  "COLORADO",
                  2
                ],
                [
                  "NEW MEXICO",
                  2
                ],
                [
                  "ARIZONA",
                  2
                ],
                [
                  "MICHIGAN",
                  2
                ],
                [
                  "MISSOURI",
                  2
                ],
                [
                  "WEST VIRGINIA",
                  1
                ],
                [
                  "NEW JERSEY",
                  1
                ],
                [
                  "WISCONSIN",
                  1
                ],
                [
                  "ILLINOIS",
                  1
                ],
                [
                  "WASHINGTON",
                  1
                ],
                [
                  "NORTH CAROLINA",
                  1
                ],
                [
                  "NORTH DAKOTA",
                  1
                ],
                [
                  "OHIO",
                  1
                ],
                [
                  "KENTUCKY",
                  1
                ],
                [
                  "INDIANA",
                  1
                ],
                [
                  "SOUTH CAROLINA",
                  1
                ]
              ]
            },
            "text/plain": "<Spark SQL result set with 29 rows and 2 fields>"
          },
          "metadata": {}
        }
      ],
      "execution_count": 23,
      "metadata": {
        "collapsed": false,
        "jupyter": {
          "source_hidden": false,
          "outputs_hidden": false
        },
        "nteract": {
          "transient": {
            "deleting": false
          }
        },
        "microsoft": {
          "language": "sparksql"
        }
      }
    }
  ],
  "metadata": {
    "language_info": {
      "name": "python"
    },
    "kernelspec": {
      "name": "synapse_pyspark",
      "language": "Python",
      "display_name": "Synapse PySpark"
    },
    "kernel_info": {
      "name": "synapse_pyspark"
    },
    "save_output": true,
    "synapse_widget": {
      "version": "0.1",
      "state": {
        "ed8825cf-96e7-4ac1-b287-1ade3621ba91": {
          "type": "Synapse.DataFrame",
          "sync_state": {
            "table": {
              "rows": [
                {
                  "EndLon": -81.63,
                  "InjuriesDirect": 0,
                  "DeathsDirect": 0,
                  "BeginLon": -81.63,
                  "EpisodeNarrative": "A small cluster of thunderstorms moved rapidly across the foothills and piedmont of western North Carolina, producing scattered wind damage.",
                  "EventType": "Thunderstorm Wind",
                  "BeginLocation": "CASAR",
                  "StartTime": "2007-01-01T00:00:00.000Z",
                  "EndTime": "2007-01-01T00:00:00.000Z",
                  "EventId": 13208,
                  "Source": "Public",
                  "DamageCrops": 0,
                  "EpisodeId": 2592,
                  "StormSummary": "{\"TotalDamages\":0,\"Details\":{\"Description\":\"Several trees down.\",\"Location\":\"NORTH CAROLINA\"},\"EndTime\":\"2007-01-01T00:00:00.0000000Z\",\"StartTime\":\"2007-01-01T00:00:00.0000000Z\"}",
                  "BeginLat": 35.52,
                  "DamageProperty": 0,
                  "DeathsIndirect": 0,
                  "State": "NORTH CAROLINA",
                  "InjuriesIndirect": 0,
                  "EventNarrative": "Several trees down.",
                  "EndLocation": "CASAR",
                  "EndLat": 35.52
                },
                {
                  "InjuriesDirect": 0,
                  "DeathsDirect": 0,
                  "EpisodeNarrative": "A powerful storm system moved from the southern plains through eastern Wisconsin, bringing copious amounts of precipitation to northwest Wisconsin from December 30th through the morning of January 1st. Deep tropical moisture out ahead of the storm brought heavy rains to the area on December 30th and 31st. Many areas saw over 1 inch of rain. Cold air wrapped around the system and changed the rain over to snow New Year's Eve. The snow finally ended during the early morning hours of New Year's Day, with the heaviest amounts of 6 to 12 inches reported across Ashland and Iron counties.",
                  "EventType": "Winter Storm",
                  "BeginLocation": "",
                  "StartTime": "2007-01-01T00:00:00.000Z",
                  "EndTime": "2007-01-01T05:00:00.000Z",
                  "EventId": 23358,
                  "Source": "COOP Observer",
                  "DamageCrops": 0,
                  "EpisodeId": 4171,
                  "StormSummary": "{\"TotalDamages\":0,\"Details\":{\"Description\":\"\",\"Location\":\"WISCONSIN\"},\"EndTime\":\"2007-01-01T05:00:00.0000000Z\",\"StartTime\":\"2007-01-01T00:00:00.0000000Z\"}",
                  "DamageProperty": 0,
                  "DeathsIndirect": 0,
                  "State": "WISCONSIN",
                  "InjuriesIndirect": 0,
                  "EventNarrative": "",
                  "EndLocation": ""
                },
                {
                  "InjuriesDirect": 0,
                  "DeathsDirect": 0,
                  "EpisodeNarrative": "A powerful storm system moved from the southern plains through eastern Wisconsin, bringing copious amounts of precipitation to northwest Wisconsin from December 30th through the morning of January 1st. Deep tropical moisture out ahead of the storm brought heavy rains to the area on December 30th and 31st. Many areas saw over 1 inch of rain. Cold air wrapped around the system and changed the rain over to snow New Year's Eve. The snow finally ended during the early morning hours of New Year's Day, with the heaviest amounts of 6 to 12 inches reported across Ashland and Iron counties.",
                  "EventType": "Winter Storm",
                  "BeginLocation": "",
                  "StartTime": "2007-01-01T00:00:00.000Z",
                  "EndTime": "2007-01-01T05:00:00.000Z",
                  "EventId": 23357,
                  "Source": "COOP Observer",
                  "DamageCrops": 0,
                  "EpisodeId": 4171,
                  "StormSummary": "{\"TotalDamages\":0,\"Details\":{\"Description\":\"\",\"Location\":\"WISCONSIN\"},\"EndTime\":\"2007-01-01T05:00:00.0000000Z\",\"StartTime\":\"2007-01-01T00:00:00.0000000Z\"}",
                  "DamageProperty": 0,
                  "DeathsIndirect": 0,
                  "State": "WISCONSIN",
                  "InjuriesIndirect": 0,
                  "EventNarrative": "",
                  "EndLocation": ""
                },
                {
                  "InjuriesDirect": 0,
                  "DeathsDirect": 0,
                  "EpisodeNarrative": "A weak area of low pressure moved across Ontario and Quebec provinces in Canada during the morning and afternoon of the 1st. Mild, moist air traveled over a seasonably cool airmass across New York and this resulted in a period of freezing rain from around Midnight to just before dawn. Freezing rain accumulated up to 1/4 of an inch across northern New York resulting in slick roads and several vehicle accidents.",
                  "EventType": "Winter Weather",
                  "BeginLocation": "",
                  "StartTime": "2007-01-01T00:00:00.000Z",
                  "EndTime": "2007-01-01T06:00:00.000Z",
                  "EventId": 9494,
                  "Source": "Department of Highways",
                  "DamageCrops": 0,
                  "EpisodeId": 1930,
                  "StormSummary": "{\"TotalDamages\":2000,\"Details\":{\"Description\":\"\",\"Location\":\"NEW YORK\"},\"EndTime\":\"2007-01-01T06:00:00.0000000Z\",\"StartTime\":\"2007-01-01T00:00:00.0000000Z\"}",
                  "DamageProperty": 2000,
                  "DeathsIndirect": 0,
                  "State": "NEW YORK",
                  "InjuriesIndirect": 0,
                  "EventNarrative": "",
                  "EndLocation": ""
                },
                {
                  "InjuriesDirect": 0,
                  "DeathsDirect": 0,
                  "EpisodeNarrative": "A weak area of low pressure moved across Ontario and Quebec provinces in Canada during the morning and afternoon of the 1st. Mild, moist air traveled over a seasonably cool airmass across New York and this resulted in a period of freezing rain from around Midnight to just before dawn. Freezing rain accumulated up to 1/4 of an inch across northern New York resulting in slick roads and several vehicle accidents.",
                  "EventType": "Winter Weather",
                  "BeginLocation": "",
                  "StartTime": "2007-01-01T00:00:00.000Z",
                  "EndTime": "2007-01-01T06:00:00.000Z",
                  "EventId": 9488,
                  "Source": "Department of Highways",
                  "DamageCrops": 0,
                  "EpisodeId": 1930,
                  "StormSummary": "{\"TotalDamages\":2000,\"Details\":{\"Description\":\"\",\"Location\":\"NEW YORK\"},\"EndTime\":\"2007-01-01T06:00:00.0000000Z\",\"StartTime\":\"2007-01-01T00:00:00.0000000Z\"}",
                  "DamageProperty": 2000,
                  "DeathsIndirect": 0,
                  "State": "NEW YORK",
                  "InjuriesIndirect": 0,
                  "EventNarrative": "",
                  "EndLocation": ""
                },
                {
                  "InjuriesDirect": 0,
                  "DeathsDirect": 0,
                  "EpisodeNarrative": "A weak area of low pressure moved across Ontario and Quebec provinces in Canada during the morning and afternoon of the 1st. Mild, moist air traveled over a seasonably cool airmass across New York and this resulted in a period of freezing rain from around Midnight to just before dawn. Freezing rain accumulated up to 1/4 of an inch across northern New York resulting in slick roads and several vehicle accidents.",
                  "EventType": "Winter Weather",
                  "BeginLocation": "",
                  "StartTime": "2007-01-01T00:00:00.000Z",
                  "EndTime": "2007-01-01T06:00:00.000Z",
                  "EventId": 9487,
                  "Source": "Department of Highways",
                  "DamageCrops": 0,
                  "EpisodeId": 1930,
                  "StormSummary": "{\"TotalDamages\":2000,\"Details\":{\"Description\":\"\",\"Location\":\"NEW YORK\"},\"EndTime\":\"2007-01-01T06:00:00.0000000Z\",\"StartTime\":\"2007-01-01T00:00:00.0000000Z\"}",
                  "DamageProperty": 2000,
                  "DeathsIndirect": 0,
                  "State": "NEW YORK",
                  "InjuriesIndirect": 0,
                  "EventNarrative": "",
                  "EndLocation": ""
                },
                {
                  "InjuriesDirect": 0,
                  "DeathsDirect": 0,
                  "EpisodeNarrative": "A weak area of low pressure moved across Ontario and Quebec provinces in Canada during the morning and afternoon of the 1st. Mild, moist air traveled over a seasonably cool airmass across New York and this resulted in a period of freezing rain from around Midnight to just before dawn. Freezing rain accumulated up to 1/4 of an inch across northern New York resulting in slick roads and several vehicle accidents.",
                  "EventType": "Winter Weather",
                  "BeginLocation": "",
                  "StartTime": "2007-01-01T00:00:00.000Z",
                  "EndTime": "2007-01-01T06:00:00.000Z",
                  "EventId": 9485,
                  "Source": "Department of Highways",
                  "DamageCrops": 0,
                  "EpisodeId": 1930,
                  "StormSummary": "{\"TotalDamages\":3000,\"Details\":{\"Description\":\"\",\"Location\":\"NEW YORK\"},\"EndTime\":\"2007-01-01T06:00:00.0000000Z\",\"StartTime\":\"2007-01-01T00:00:00.0000000Z\"}",
                  "DamageProperty": 3000,
                  "DeathsIndirect": 0,
                  "State": "NEW YORK",
                  "InjuriesIndirect": 0,
                  "EventNarrative": "",
                  "EndLocation": ""
                },
                {
                  "InjuriesDirect": 0,
                  "DeathsDirect": 0,
                  "EpisodeNarrative": "A weak area of low pressure moved across Ontario and Quebec provinces in Canada during the morning and afternoon of the 1st. Mild, moist air traveled over a seasonably cool airmass across New York and this resulted in a period of freezing rain from around Midnight to just before dawn. Freezing rain accumulated up to 1/4 of an inch across northern New York resulting in slick roads and several vehicle accidents.",
                  "EventType": "Winter Weather",
                  "BeginLocation": "",
                  "StartTime": "2007-01-01T00:00:00.000Z",
                  "EndTime": "2007-01-01T06:00:00.000Z",
                  "EventId": 9486,
                  "Source": "Department of Highways",
                  "DamageCrops": 0,
                  "EpisodeId": 1930,
                  "StormSummary": "{\"TotalDamages\":3000,\"Details\":{\"Description\":\"\",\"Location\":\"NEW YORK\"},\"EndTime\":\"2007-01-01T06:00:00.0000000Z\",\"StartTime\":\"2007-01-01T00:00:00.0000000Z\"}",
                  "DamageProperty": 3000,
                  "DeathsIndirect": 0,
                  "State": "NEW YORK",
                  "InjuriesIndirect": 0,
                  "EventNarrative": "",
                  "EndLocation": ""
                },
                {
                  "InjuriesDirect": 0,
                  "DeathsDirect": 0,
                  "EpisodeNarrative": "A weak area of low pressure moved across Ontario and Quebec provinces in Canada during the morning and afternoon of the 1st. Mild, moist air traveled over a seasonably cool airmass across New York and this resulted in a period of freezing rain from around Midnight to just before dawn. Freezing rain accumulated up to 1/4 of an inch across northern New York resulting in slick roads and several vehicle accidents.",
                  "EventType": "Winter Weather",
                  "BeginLocation": "",
                  "StartTime": "2007-01-01T00:00:00.000Z",
                  "EndTime": "2007-01-01T06:00:00.000Z",
                  "EventId": 9493,
                  "Source": "Department of Highways",
                  "DamageCrops": 0,
                  "EpisodeId": 1930,
                  "StormSummary": "{\"TotalDamages\":2000,\"Details\":{\"Description\":\"\",\"Location\":\"NEW YORK\"},\"EndTime\":\"2007-01-01T06:00:00.0000000Z\",\"StartTime\":\"2007-01-01T00:00:00.0000000Z\"}",
                  "DamageProperty": 2000,
                  "DeathsIndirect": 0,
                  "State": "NEW YORK",
                  "InjuriesIndirect": 0,
                  "EventNarrative": "",
                  "EndLocation": ""
                },
                {
                  "InjuriesDirect": 0,
                  "DeathsDirect": 0,
                  "EpisodeNarrative": "A weak area of low pressure moved across Ontario and Quebec provinces in Canada during the morning and afternoon of the 1st. Mild, moist air traveled over a seasonably cool airmass across New York and this resulted in a period of freezing rain from around Midnight to just before dawn. Freezing rain accumulated up to 1/4 of an inch across northern New York resulting in slick roads and several vehicle accidents.",
                  "EventType": "Winter Weather",
                  "BeginLocation": "",
                  "StartTime": "2007-01-01T00:00:00.000Z",
                  "EndTime": "2007-01-01T06:00:00.000Z",
                  "EventId": 9489,
                  "Source": "Department of Highways",
                  "DamageCrops": 0,
                  "EpisodeId": 1930,
                  "StormSummary": "{\"TotalDamages\":2000,\"Details\":{\"Description\":\"\",\"Location\":\"NEW YORK\"},\"EndTime\":\"2007-01-01T06:00:00.0000000Z\",\"StartTime\":\"2007-01-01T00:00:00.0000000Z\"}",
                  "DamageProperty": 2000,
                  "DeathsIndirect": 0,
                  "State": "NEW YORK",
                  "InjuriesIndirect": 0,
                  "EventNarrative": "",
                  "EndLocation": ""
                }
              ],
              "schema": {
                "StartTime": "int",
                "EndTime": "int",
                "EpisodeId": "int",
                "EventId": "int",
                "State": "string",
                "EventType": "string",
                "InjuriesDirect": "int",
                "InjuriesIndirect": "int",
                "DeathsDirect": "int",
                "DeathsIndirect": "int",
                "DamageProperty": "int",
                "DamageCrops": "int",
                "Source": "string",
                "BeginLocation": "string",
                "EndLocation": "string",
                "BeginLat": "double",
                "BeginLon": "double",
                "EndLat": "double",
                "EndLon": "double",
                "EpisodeNarrative": "string",
                "EventNarrative": "string",
                "StormSummary": "string"
              }
            },
            "isSummary": false,
            "language": "scala"
          },
          "persist_state": {
            "view": {
              "type": "details",
              "tableOptions": {},
              "chartOptions": {
                "chartType": "bar",
                "aggregationType": "sum",
                "categoryFieldKeys": [
                  "EndTime"
                ],
                "seriesFieldKeys": [
                  "StartTime"
                ],
                "isStacked": false
              }
            }
          }
        }
      }
    }
  },
  "nbformat": 4,
  "nbformat_minor": 2
}